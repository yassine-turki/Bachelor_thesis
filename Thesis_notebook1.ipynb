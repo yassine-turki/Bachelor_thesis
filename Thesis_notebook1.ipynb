{
  "nbformat": 4,
  "nbformat_minor": 0,
  "metadata": {
    "colab": {
      "provenance": [],
      "gpuType": "T4",
      "authorship_tag": "ABX9TyOOgzrev+FbO+mg+pnVQrsd"
    },
    "kernelspec": {
      "name": "python3",
      "display_name": "Python 3"
    },
    "language_info": {
      "name": "python"
    },
    "accelerator": "GPU"
  },
  "cells": [
    {
      "cell_type": "code",
      "source": [
        "create_network_dict(1,4)"
      ],
      "metadata": {
        "colab": {
          "base_uri": "https://localhost:8080/"
        },
        "id": "FOK9ybgDHEeI",
        "outputId": "91d961e1-7bad-48de-b6e5-3a9c76531d99"
      },
      "execution_count": null,
      "outputs": [
        {
          "output_type": "execute_result",
          "data": {
            "text/plain": [
              "{'Layer1': {'node0': [], 'node1': [], 'node2': [], 'node3': []}}"
            ]
          },
          "metadata": {},
          "execution_count": 33
        }
      ]
    },
    {
      "cell_type": "code",
      "source": [
        "import torch\n",
        "import torch.nn as nn\n",
        "import torch.optim as optim\n",
        "import numpy as np\n",
        "import matplotlib.pyplot as plt\n",
        "\n",
        "# Set random seed for reproducibility\n",
        "torch.manual_seed(42)\n",
        "np.random.seed(42)\n",
        "\n",
        "# Hyperparameters\n",
        "input_dim = 1\n",
        "hidden_dim = 4\n",
        "output_dim = 1\n",
        "num_samples = 100\n",
        "num_epochs = 100\n",
        "learning_rate = 0.001\n",
        "\n",
        "def create_network_dict(num_layers, num_nodes_per_layer):\n",
        "    network_dict = {}\n",
        "    for layer in range(1, num_layers + 1):\n",
        "        layer_name = f\"Layer{layer}\"\n",
        "        network_dict[layer_name] = {f\"node{i}\": [] for i in range(num_nodes_per_layer)}\n",
        "    return network_dict\n",
        "\n",
        "# Define the Model\n",
        "class CustomModel(nn.Module):\n",
        "    def __init__(self, input_dim, hidden_dim, output_dim):\n",
        "        super(CustomModel, self).__init__()\n",
        "        self.fc1 = nn.Linear(input_dim, hidden_dim)\n",
        "        self.fc2 = nn.Linear(hidden_dim, output_dim)\n",
        "        self.node_dict = create_network_dict(num_layers = 1, num_nodes_per_layer=hidden_dim)\n",
        "        self.node_dict_testing = create_network_dict(num_layers = 1, num_nodes_per_layer=hidden_dim)\n",
        "        self.layers = 1\n",
        "        self.hidden_dim = hidden_dim\n",
        "        self.testing = False\n",
        "\n",
        "\n",
        "    def forward(self, x):\n",
        "        x = torch.relu(self.fc1(x))\n",
        "        if self.testing:\n",
        "            for j in range(len(x[0])):\n",
        "                self.node_dict_testing[f\"Layer{self.layers}\"][f\"node{j}\"].extend(x[:, j].detach().cpu().numpy())\n",
        "        else:\n",
        "            for j in range(len(x[0])):\n",
        "                self.node_dict[f\"Layer{self.layers}\"][f\"node{j}\"].extend(x[:, j].detach().cpu().numpy())\n",
        "        return  self.fc2(x)\n",
        "\n",
        "# Generate Training Data\n",
        "def generate_data(num_samples):\n",
        "    X = np.random.rand(num_samples, 1) * 10\n",
        "    y = 2 * X\n",
        "    return X, y\n",
        "\n",
        "# Training Pipeline\n",
        "def train_model(model, X_train, y_train, num_epochs=100, learning_rate=0.01):\n",
        "    criterion = nn.MSELoss()\n",
        "    optimizer = optim.SGD(model.parameters(), lr=learning_rate)\n",
        "\n",
        "    for epoch in range(num_epochs):\n",
        "        inputs = torch.tensor(X_train).float()\n",
        "        targets = torch.tensor(y_train).float()\n",
        "        optimizer.zero_grad()\n",
        "\n",
        "        outputs = model(inputs)\n",
        "        loss = criterion(outputs, targets)\n",
        "\n",
        "        loss.backward()\n",
        "        optimizer.step()\n",
        "\n",
        "        if (epoch + 1) % 10 == 0:\n",
        "            print(f'Epoch {epoch+1}/{num_epochs}, Loss: {loss.item()}')\n",
        "\n",
        "# Extract Node Value Ranges\n",
        "def extract_node_value_ranges(model):\n",
        "    node_dict = model.node_dict\n",
        "    interval_dict = create_network_dict(num_layers=model.layers, num_nodes_per_layer=model.hidden_dim)\n",
        "    for layer, subdict in node_dict.items():\n",
        "        for node, values in subdict.items():\n",
        "            min_values = min(values)\n",
        "            max_values = max(values)\n",
        "            interval_dict[layer][node] = [min_values, max_values]\n",
        "    return interval_dict\n",
        "\n",
        "# Test on Unseen Data\n",
        "def test_model(model, X_unseen, y_true):\n",
        "    with torch.no_grad():\n",
        "        model.eval()\n",
        "        model.testing = True\n",
        "        x_unseen_tensor = torch.tensor(X_unseen, dtype=torch.float32).clone().detach()\n",
        "        y_pred = model(x_unseen_tensor)\n",
        "        prediction_error = torch.norm(y_true - y_pred).item()\n",
        "        print(f'True Output: {y_true}, Predicted Output: {y_pred.item()}, Prediction Error: {prediction_error}')\n",
        "        print(\"\\nNode values after training: \\n\")\n",
        "        print(model.node_dict_testing)\n",
        "\n",
        "\n",
        "\n",
        "         # Check if values are in the defined intervals\n",
        "        for layer, subdict in model.node_dict_testing.items():\n",
        "            for node, values in subdict.items():\n",
        "                min_value, max_value = value_ranges[layer][node]\n",
        "                are_values_in_interval = all(min_value <= value <= max_value for value in values)\n",
        "                print(f'Layer {layer}, Node {node}: Values in Interval: {are_values_in_interval}')\n",
        "\n",
        "#Main Execution\n",
        "\n",
        "\n",
        "X_train, y_train = generate_data(num_samples)\n",
        "\n",
        "\n",
        "model = CustomModel(input_dim, hidden_dim, output_dim)\n",
        "\n",
        "\n",
        "train_model(model, X_train, y_train, num_epochs, learning_rate)\n",
        "\n",
        "\n",
        "value_ranges = extract_node_value_ranges(model)\n",
        "\n",
        "\n",
        "X_unseen = torch.tensor([[5.0]], dtype=torch.float32)  # Unseen input\n",
        "y_true = torch.tensor([10.0], dtype=torch.float32)   # Ground truth for unseen input\n",
        "\n",
        "\n",
        "test_model(model, X_unseen, y_true)\n",
        "\n",
        "\n"
      ],
      "metadata": {
        "colab": {
          "base_uri": "https://localhost:8080/"
        },
        "id": "bis-3mTD3xz1",
        "outputId": "1eb676d4-bf37-4288-86b6-1a1ff73adf6c"
      },
      "execution_count": null,
      "outputs": [
        {
          "output_type": "stream",
          "name": "stdout",
          "text": [
            "Epoch 10/100, Loss: 1.5403879880905151\n",
            "Epoch 20/100, Loss: 0.15524280071258545\n",
            "Epoch 30/100, Loss: 0.14911393821239471\n",
            "Epoch 40/100, Loss: 0.14494958519935608\n",
            "Epoch 50/100, Loss: 0.140901118516922\n",
            "Epoch 60/100, Loss: 0.13696342706680298\n",
            "Epoch 70/100, Loss: 0.13313353061676025\n",
            "Epoch 80/100, Loss: 0.12940850853919983\n",
            "Epoch 90/100, Loss: 0.1257859170436859\n",
            "Epoch 100/100, Loss: 0.12226250767707825\n",
            "True Output: tensor([10.]), Predicted Output: 10.148580551147461, Prediction Error: 0.14858055114746094\n",
            "\n",
            "Node values after training: \n",
            "\n",
            "{'Layer1': {'node0': [5.469106], 'node1': [3.874779], 'node2': [0.0], 'node3': [6.1977983]}}\n",
            "Layer Layer1, Node node0: Values in Interval: True\n",
            "Layer Layer1, Node node1: Values in Interval: True\n",
            "Layer Layer1, Node node2: Values in Interval: True\n",
            "Layer Layer1, Node node3: Values in Interval: True\n"
          ]
        },
        {
          "output_type": "stream",
          "name": "stderr",
          "text": [
            "<ipython-input-70-77162e054849>:90: UserWarning: To copy construct from a tensor, it is recommended to use sourceTensor.clone().detach() or sourceTensor.clone().detach().requires_grad_(True), rather than torch.tensor(sourceTensor).\n",
            "  x_unseen_tensor = torch.tensor(X_unseen, dtype=torch.float32).clone().detach()\n"
          ]
        }
      ]
    },
    {
      "cell_type": "code",
      "source": [
        "value_ranges"
      ],
      "metadata": {
        "colab": {
          "base_uri": "https://localhost:8080/"
        },
        "id": "t6ATYqz4DJOQ",
        "outputId": "a1b106bc-c2fb-4ba9-f3b0-d225a1f4c975"
      },
      "execution_count": null,
      "outputs": [
        {
          "output_type": "execute_result",
          "data": {
            "text/plain": [
              "{'Layer1': {'node0': [0.0, 10.986401],\n",
              "  'node1': [0.22584103, 8.393031],\n",
              "  'node2': [0.0, 0.0],\n",
              "  'node3': [0.6380094, 11.656104]}}"
            ]
          },
          "metadata": {},
          "execution_count": 54
        }
      ]
    },
    {
      "cell_type": "code",
      "source": [],
      "metadata": {
        "id": "zM4xh6_PKRpP"
      },
      "execution_count": null,
      "outputs": []
    }
  ]
}